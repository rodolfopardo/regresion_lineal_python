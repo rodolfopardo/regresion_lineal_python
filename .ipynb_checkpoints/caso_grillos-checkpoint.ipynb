{
 "cells": [
  {
   "cell_type": "markdown",
   "metadata": {},
   "source": [
    "#### Cualquiera que haya estado al aire libre en una noche de verano probablemente ha oído grillos. ¿Sabías que es posible utilizar el grillo como termómetro? Los grillos tienden a chirriar más frecuentemente a medida que aumentan las temperaturas. "
   ]
  },
  {
   "cell_type": "markdown",
   "metadata": {},
   "source": [
    "#### Este caso fue estudiado por Pierce, profesor de física de Harvard. "
   ]
  },
  {
   "cell_type": "markdown",
   "metadata": {},
   "source": [
    "#### Como analista de datos, vamos a intentar predecir la temperatura por la cantidad de chirridos"
   ]
  },
  {
   "cell_type": "code",
   "execution_count": 2,
   "metadata": {},
   "outputs": [],
   "source": [
    "import pandas as pd\n",
    "import numpy as np\n",
    "import matplotlib.pyplot as plt\n",
    "import seaborn as sns \n",
    "from scipy import stats"
   ]
  },
  {
   "cell_type": "code",
   "execution_count": 15,
   "metadata": {},
   "outputs": [],
   "source": [
    "#Chirridos son las x\n",
    "#Temperaturas son las y\n",
    "\n",
    "x = np.array([20.0, 16.0, 19.8, 18.4, 17.1, 15.5, 14.7, 17.1, 15.4, 16.2, 15.0, 17.2, 16.0, 17.0, 14.4])\n",
    "y = np.array([31.0, 22.0, 34.0, 29.0, 27.0, 24.0, 21.0, 28.0, 21.0, 29.0, 26.0, 28.0, 27.0, 29.0, 25.0])\n",
    "\n",
    "df = pd.DataFrame({'x':x, 'y':y})"
   ]
  },
  {
   "cell_type": "code",
   "execution_count": 16,
   "metadata": {},
   "outputs": [
    {
     "name": "stdout",
     "output_type": "stream",
     "text": [
      "La media de chirridos por segundos es de 16.653333333333332\n",
      "La desviación standart de chirridos por segundo es de 1.6443303263706541\n",
      "La media de temperaturas es de : 26.733333333333334\n",
      "La desviación standart de temperaturas es de 3.5490217744549777\n"
     ]
    }
   ],
   "source": [
    "print(\"La media de chirridos por segundos es de\", np.mean(x))\n",
    "print(\"La desviación standart de chirridos por segundo es de\",np.std(x))\n",
    "print(\"La media de temperaturas es de :\", np.mean(y))\n",
    "print(\"La desviación standart de temperaturas es de\",np.std(y))"
   ]
  },
  {
   "cell_type": "markdown",
   "metadata": {},
   "source": [
    "Tenemos en nuestros datos desviaciones standarts muy similares. \n",
    "Es hora de aviguar las correlaciones entre ambas variables"
   ]
  },
  {
   "cell_type": "code",
   "execution_count": 18,
   "metadata": {},
   "outputs": [
    {
     "data": {
      "text/html": [
       "<div>\n",
       "<style scoped>\n",
       "    .dataframe tbody tr th:only-of-type {\n",
       "        vertical-align: middle;\n",
       "    }\n",
       "\n",
       "    .dataframe tbody tr th {\n",
       "        vertical-align: top;\n",
       "    }\n",
       "\n",
       "    .dataframe thead th {\n",
       "        text-align: right;\n",
       "    }\n",
       "</style>\n",
       "<table border=\"1\" class=\"dataframe\">\n",
       "  <thead>\n",
       "    <tr style=\"text-align: right;\">\n",
       "      <th></th>\n",
       "      <th>x</th>\n",
       "      <th>y</th>\n",
       "    </tr>\n",
       "  </thead>\n",
       "  <tbody>\n",
       "    <tr>\n",
       "      <th>x</th>\n",
       "      <td>1.000000</td>\n",
       "      <td>0.820382</td>\n",
       "    </tr>\n",
       "    <tr>\n",
       "      <th>y</th>\n",
       "      <td>0.820382</td>\n",
       "      <td>1.000000</td>\n",
       "    </tr>\n",
       "  </tbody>\n",
       "</table>\n",
       "</div>"
      ],
      "text/plain": [
       "          x         y\n",
       "x  1.000000  0.820382\n",
       "y  0.820382  1.000000"
      ]
     },
     "execution_count": 18,
     "metadata": {},
     "output_type": "execute_result"
    }
   ],
   "source": [
    "df.corr(method = \"pearson\")"
   ]
  },
  {
   "cell_type": "markdown",
   "metadata": {},
   "source": [
    "Tenemos una correlación moderada."
   ]
  },
  {
   "cell_type": "code",
   "execution_count": 20,
   "metadata": {},
   "outputs": [
    {
     "data": {
      "text/plain": [
       "<matplotlib.collections.PathCollection at 0x112c36e80>"
      ]
     },
     "execution_count": 20,
     "metadata": {},
     "output_type": "execute_result"
    },
    {
     "data": {
      "image/png": "[encoded data removed]",
      "text/plain": [
       "<Figure size 432x288 with 1 Axes>"
      ]
     },
     "metadata": {
      "needs_background": "light"
     },
     "output_type": "display_data"
    }
   ],
   "source": [
    "plt.scatter(x = 'x', y = 'y', data = df)"
   ]
  },
  {
   "cell_type": "markdown",
   "metadata": {},
   "source": [
    "Gracias a este gráfico de dispersión, podemos entender que es una correlación moderada positiva. \n",
    "A mayor cantidad de chirridos, mayor temperatura"
   ]
  },
  {
   "cell_type": "markdown",
   "metadata": {},
   "source": [
    "<font color=red> Problema: ¿Cuál es la temperatura prevista con 19 chirridos? "
   ]
  },
  {
   "cell_type": "code",
   "execution_count": 21,
   "metadata": {},
   "outputs": [],
   "source": [
    "#Comenzamos a calcular los valores \n",
    "\n",
    "suma_x = sum(df['x']) #suma de x\n",
    "suma_y = sum(df['y']) #suma de y\n",
    "x2 = sum(df['x']**2) #x al cuadrado\n",
    "y2 = sum(df['y']**2) #y al cuadrado\n",
    "xy = sum(df['x']*df['y']) #suma de x*y\n",
    "media_x = np.mean(df['x']) #promedio de x\n",
    "media_y = np.mean(df['y']) #promedio de y"
   ]
  },
  {
   "cell_type": "code",
   "execution_count": 22,
   "metadata": {},
   "outputs": [
    {
     "data": {
      "text/plain": [
       "(249.79999999999998,\n",
       " 401.0,\n",
       " 4200.5599999999995,\n",
       " 10909.0,\n",
       " 6749.8,\n",
       " 16.653333333333332,\n",
       " 26.733333333333334)"
      ]
     },
     "execution_count": 22,
     "metadata": {},
     "output_type": "execute_result"
    }
   ],
   "source": [
    "suma_x, suma_y, x2, y2, xy, media_x, media_y"
   ]
  },
  {
   "cell_type": "code",
   "execution_count": 23,
   "metadata": {},
   "outputs": [],
   "source": [
    "#Calculando nuestra pendiente en la formula y = a + b.x\n",
    "\n",
    "n1 = len(df)*xy-(suma_x*suma_y)\n",
    "n2 = len(df)*x2-(suma_x**2)\n",
    "\n",
    "b = n1/n2"
   ]
  },
  {
   "cell_type": "code",
   "execution_count": 24,
   "metadata": {},
   "outputs": [
    {
     "name": "stdout",
     "output_type": "stream",
     "text": [
      "El valor de la pendiente es:  1.770662107962408\n"
     ]
    }
   ],
   "source": [
    "print(\"El valor de la pendiente es: \",b)"
   ]
  },
  {
   "cell_type": "code",
   "execution_count": 25,
   "metadata": {},
   "outputs": [],
   "source": [
    "#Calculamos el intercepto\n",
    "\n",
    "a = media_y - (b*media_x)"
   ]
  },
  {
   "cell_type": "code",
   "execution_count": 26,
   "metadata": {},
   "outputs": [
    {
     "name": "stdout",
     "output_type": "stream",
     "text": [
      "El valor del intercepto es:  -2.7540929712673012\n"
     ]
    }
   ],
   "source": [
    "print(\"El valor del intercepto es: \",a)"
   ]
  },
  {
   "cell_type": "code",
   "execution_count": 37,
   "metadata": {},
   "outputs": [],
   "source": [
    "#Calculomos el valor de y con la x planteada en el problema \n",
    "\n",
    "y = a+(b*19)"
   ]
  },
  {
   "cell_type": "code",
   "execution_count": 38,
   "metadata": {},
   "outputs": [
    {
     "name": "stdout",
     "output_type": "stream",
     "text": [
      "La temperatura predecida con 19 chirridos es:  30.888487080018454\n"
     ]
    }
   ],
   "source": [
    "print(\"La temperatura predecida con 19 chirridos es: \",y)"
   ]
  },
  {
   "cell_type": "code",
   "execution_count": 29,
   "metadata": {},
   "outputs": [],
   "source": [
    "#Valores de r2 como coeficiente de determinacion\n",
    "\n",
    "slope, intercept, r_value, p_value, std_err = stats.linregress(df['x'], df['y'])"
   ]
  },
  {
   "cell_type": "code",
   "execution_count": 30,
   "metadata": {},
   "outputs": [
    {
     "data": {
      "text/plain": [
       "0.00017936936954707992"
      ]
     },
     "execution_count": 30,
     "metadata": {},
     "output_type": "execute_result"
    }
   ],
   "source": [
    "p_value"
   ]
  },
  {
   "cell_type": "markdown",
   "metadata": {},
   "source": [
    "Nuestro p_value es aceptable"
   ]
  },
  {
   "cell_type": "code",
   "execution_count": 31,
   "metadata": {},
   "outputs": [
    {
     "data": {
      "text/plain": [
       "0.34229784954493436"
      ]
     },
     "execution_count": 31,
     "metadata": {},
     "output_type": "execute_result"
    }
   ],
   "source": [
    "std_err"
   ]
  },
  {
   "cell_type": "markdown",
   "metadata": {},
   "source": [
    "La predicción de nuestro error es del 34% un poco elevada "
   ]
  },
  {
   "cell_type": "code",
   "execution_count": 33,
   "metadata": {},
   "outputs": [],
   "source": [
    "r2 = r_value**2"
   ]
  },
  {
   "cell_type": "code",
   "execution_count": 34,
   "metadata": {},
   "outputs": [
    {
     "data": {
      "text/plain": [
       "0.6730265429418089"
      ]
     },
     "execution_count": 34,
     "metadata": {},
     "output_type": "execute_result"
    }
   ],
   "source": [
    "r2"
   ]
  },
  {
   "cell_type": "markdown",
   "metadata": {},
   "source": [
    "El r2 nos quiere decir que la dependencia entre ambas variables es del 67%. Los chirridos, explican en un 67% el aumento o disminución de la temperatura."
   ]
  },
  {
   "cell_type": "code",
   "execution_count": 39,
   "metadata": {},
   "outputs": [
    {
     "data": {
      "image/png": "[encoded data removed]",
      "text/plain": [
       "<Figure size 432x288 with 1 Axes>"
      ]
     },
     "metadata": {
      "needs_background": "light"
     },
     "output_type": "display_data"
    }
   ],
   "source": [
    "plt.plot(df['x'], df['y'], 'o', label='datos originales')\n",
    "plt.plot(df['x'], a + b*df['x'], 'b', label='línea ajustada')\n",
    "plt.legend()\n",
    "plt.show()"
   ]
  },
  {
   "cell_type": "code",
   "execution_count": null,
   "metadata": {},
   "outputs": [],
   "source": []
  }
 ],
 "metadata": {
  "kernelspec": {
   "display_name": "Python 3",
   "language": "python",
   "name": "python3"
  },
  "language_info": {
   "codemirror_mode": {
    "name": "ipython",
    "version": 3
   },
   "file_extension": ".py",
   "mimetype": "text/x-python",
   "name": "python",
   "nbconvert_exporter": "python",
   "pygments_lexer": "ipython3",
   "version": "3.6.5"
  }
 },
 "nbformat": 4,
 "nbformat_minor": 2
}
